{
  "cells": [
    {
      "cell_type": "markdown",
      "metadata": {
        "id": "view-in-github",
        "colab_type": "text"
      },
      "source": [
        "<a href=\"https://colab.research.google.com/github/HromovAndrey/-Tu_kill_the_time/blob/main/%D0%94%D0%BE%D0%B1%D1%80%D0%BE_%D0%BF%D0%BE%D0%B6%D0%B0%D0%BB%D0%BE%D0%B2%D0%B0%D1%82%D1%8C_%D0%B2_Colaboratory!.ipynb\" target=\"_parent\"><img src=\"https://colab.research.google.com/assets/colab-badge.svg\" alt=\"Open In Colab\"/></a>"
      ]
    },
    {
      "cell_type": "code",
      "source": [
        "s = input(\"Уведіть значення: \")\n",
        "for bukva in s:\n",
        "    if bukva.isupper():\n",
        "        print(bukva, \"Big\")\n",
        "    elif bukva.islower():\n",
        "        print(bukva, \"Small\")\n",
        "    elif bukva.isdigit():\n",
        "        print(bukva, \"isdigit\")\n",
        "    else:\n",
        "        print(bukva, \"znak\")"
      ],
      "metadata": {
        "id": "l8xKZsmWrg_z"
      },
      "execution_count": null,
      "outputs": []
    },
    {
      "cell_type": "code",
      "source": [
        "line = input(\"Enter some string\")\n",
        "for  c in line[0 : 6: 1]:\n",
        "  print(c)"
      ],
      "metadata": {
        "id": "HuMacJRYxHB_"
      },
      "execution_count": null,
      "outputs": []
    }
  ],
  "metadata": {
    "colab": {
      "name": "Добро пожаловать в Colaboratory!",
      "provenance": [],
      "include_colab_link": true
    },
    "kernelspec": {
      "display_name": "Python 3",
      "name": "python3"
    }
  },
  "nbformat": 4,
  "nbformat_minor": 0
}