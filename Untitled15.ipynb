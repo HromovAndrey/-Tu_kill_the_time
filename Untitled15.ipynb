{
  "nbformat": 4,
  "nbformat_minor": 0,
  "metadata": {
    "colab": {
      "provenance": [],
      "authorship_tag": "ABX9TyPw6W16iaLIndUPvTYNjJ0t",
      "include_colab_link": true
    },
    "kernelspec": {
      "name": "python3",
      "display_name": "Python 3"
    },
    "language_info": {
      "name": "python"
    }
  },
  "cells": [
    {
      "cell_type": "markdown",
      "metadata": {
        "id": "view-in-github",
        "colab_type": "text"
      },
      "source": [
        "<a href=\"https://colab.research.google.com/github/HromovAndrey/-Tu_kill_the_time/blob/main/Untitled15.ipynb\" target=\"_parent\"><img src=\"https://colab.research.google.com/assets/colab-badge.svg\" alt=\"Open In Colab\"/></a>"
      ]
    },
    {
      "cell_type": "code",
      "execution_count": 6,
      "metadata": {
        "id": "xnQOthlB5dOS"
      },
      "outputs": [],
      "source": [
        "import numpy as np\n",
        "import pandas as pd\n",
        "import tensorflow as tf\n",
        "from tensorflow.keras.preprocessing.text import Tokenizer\n",
        "from tensorflow.keras.preprocessing.sequence import  pad_sequences\n",
        "from tensorflow.keras.models import Sequential\n",
        "from tensorflow.keras.layers import Embedding, LSTM, Dense, Dropout\n",
        "import requests\n",
        "import zipfile\n",
        "import io"
      ]
    },
    {
      "cell_type": "code",
      "source": [
        "url = 'https://archive.ics.uci.edu/ml/machine-learning-databases/00331/sentiment%20labelled%20sentences.zip'"
      ],
      "metadata": {
        "id": "VphsTptS8o42"
      },
      "execution_count": 7,
      "outputs": []
    },
    {
      "cell_type": "code",
      "source": [
        "response = requests.get(url)"
      ],
      "metadata": {
        "id": "GP3QSGTY8t6-"
      },
      "execution_count": 8,
      "outputs": []
    },
    {
      "cell_type": "code",
      "source": [
        "with zipfile.ZipFile(io.BytesIO(response.content)) as zip_ref:\n",
        "  amazon_data = zip_ref.read('sentiment labelled sentences/amazon_cells_labelled.txt').decode('utf-8')\n",
        "  imbd_data = zip_ref.read('sentiment labelled sentences/imdb_labelled.txt').decode('utf-8')\n",
        "  yelp_data = zip_ref.read('sentiment labelled sentences/yelp_labelled.txt').decode('utf-8')"
      ],
      "metadata": {
        "id": "AGCmANxD87Bd"
      },
      "execution_count": 12,
      "outputs": []
    },
    {
      "cell_type": "code",
      "source": [
        "data_list = []\n",
        "for line in amazon_data.split('\\n') + imdb_data.split('\\n') + yelp_data.split('\\n'):\n",
        "  if line.strip():\n",
        "    sentence, label = line.rsplit('\\t', 1)\n",
        "    data_list.append([sentence, int(label)])"
      ],
      "metadata": {
        "id": "Tf8_HJ_IFK0i"
      },
      "execution_count": 15,
      "outputs": []
    },
    {
      "cell_type": "code",
      "source": [
        "data = pd.DataFrame(data_list, columns=['sentence', 'label'])\n",
        "print(data.head())"
      ],
      "metadata": {
        "colab": {
          "base_uri": "https://localhost:8080/"
        },
        "id": "ZRyH9WhGGPUg",
        "outputId": "269f1480-5907-4754-d3bb-97b878b5286b"
      },
      "execution_count": 16,
      "outputs": [
        {
          "output_type": "stream",
          "name": "stdout",
          "text": [
            "                                            sentence  label\n",
            "0  So there is no way for me to plug it in here i...      0\n",
            "1                        Good case, Excellent value.      1\n",
            "2                             Great for the jawbone.      1\n",
            "3  Tied to charger for conversations lasting more...      0\n",
            "4                                  The mic is great.      1\n"
          ]
        }
      ]
    },
    {
      "cell_type": "code",
      "source": [
        "sentences = data['sentence'].values\n",
        "labels = data['label'].values"
      ],
      "metadata": {
        "id": "00R5LANqGna-"
      },
      "execution_count": 20,
      "outputs": []
    },
    {
      "cell_type": "code",
      "source": [],
      "metadata": {
        "id": "-cOoD_fqHc53"
      },
      "execution_count": null,
      "outputs": []
    }
  ]
}